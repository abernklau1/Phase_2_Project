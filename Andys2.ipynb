{
 "cells": [
  {
   "cell_type": "markdown",
   "id": "7e15e70c",
   "metadata": {},
   "source": [
    "King County Real Estate '14-'15 Analysis "
   ]
  },
  {
   "cell_type": "markdown",
   "id": "b93a891b",
   "metadata": {},
   "source": [
    "Authors: Andrew Marinelli, Drew Bernklau, and Andy Schmeck (\"The Andrew's Three)\n",
    "\n",
    "# Overview"
   ]
  },
  {
   "cell_type": "markdown",
   "id": "7d39f794",
   "metadata": {},
   "source": [
    "<img src=\"Images/King_County_homes_map.png\" width=600 height=200 />"
   ]
  },
  {
   "cell_type": "markdown",
   "id": "c54d8527",
   "metadata": {},
   "source": [
    "This project analyzes data for Real Estate Company, dealing with hundreds of clients all over the Puget Sound area.  Descriptive analysis of the housing data, from King County, Washington between May 2014 to May 2015, show that homes vary in sale price due to many factors. Real Estate Company can use this anaysis to modify client interactions and offer more targeted advice in listing and selling their home. "
   ]
  },
  {
   "cell_type": "markdown",
   "id": "de929420",
   "metadata": {},
   "source": [
    "# Business Problem"
   ]
  },
  {
   "cell_type": "markdown",
   "id": "afa1d96f",
   "metadata": {},
   "source": [
    "One of the most frequently asked questions of realtors is \"How should I prepare my house before selling it?\" (RentSpree). Real Estate Company may be able to improve client relations and increase profits with a few targeted recommendations provided to the homeowners about which home renovations and improvements might increase the estimated value of their homes, increasing income for homeowner and realator."
   ]
  },
  {
   "cell_type": "markdown",
   "id": "0ecb7b77",
   "metadata": {},
   "source": [
    "<img src=\"Images/puget sound.jpg\" width=500 height=200 />"
   ]
  },
  {
   "cell_type": "markdown",
   "id": "32ca2392",
   "metadata": {},
   "source": [
    "# Data"
   ]
  },
  {
   "cell_type": "markdown",
   "id": "c972f30c",
   "metadata": {},
   "source": [
    "The dataset is of King County 21,597 home sales between May 2014 through May 2015. Every home has a unique id; 92 homes were sold twice within the year. With price as the target variable, features that influenced a homeowner's selling price were kept: id, bedrooms, bathrooms, condition, price. "
   ]
  },
  {
   "cell_type": "code",
   "execution_count": 1,
   "id": "ebcb6b42",
   "metadata": {},
   "outputs": [],
   "source": [
    "import pandas as pd\n",
    "import code.project2_cleaning as cln\n",
    "import code.project2_viz as viz\n",
    "import matplotlib.pyplot as plt\n",
    "\n",
    "data = pd.read_csv('data/kc_house_data.csv')"
   ]
  },
  {
   "cell_type": "markdown",
   "id": "66217fd3",
   "metadata": {},
   "source": [
    "#### Train-Test-Split"
   ]
  },
  {
   "cell_type": "markdown",
   "id": "b0b06f9d",
   "metadata": {},
   "source": [
    "The data was split 75%/25% "
   ]
  },
  {
   "cell_type": "code",
   "execution_count": 2,
   "id": "97997941",
   "metadata": {},
   "outputs": [],
   "source": [
    "X_train, X_test, y_train, y_test = cln.splitting(data)"
   ]
  },
  {
   "cell_type": "markdown",
   "id": "999ba30f",
   "metadata": {},
   "source": [
    "#### Excluding"
   ]
  },
  {
   "cell_type": "markdown",
   "id": "90fcd0b0",
   "metadata": {},
   "source": [
    "Some features were excluded due to multicollinearity sqft_living, sqft_living15, sqft_above, and sqft_basement. We chose to keep bathrooms as the most specific of the group. "
   ]
  },
  {
   "cell_type": "code",
   "execution_count": 3,
   "id": "00f91cff",
   "metadata": {},
   "outputs": [
    {
     "data": {
      "image/png": "[encoded data removed]",
      "text/plain": [
       "<Figure size 432x288 with 2 Axes>"
      ]
     },
     "metadata": {
      "needs_background": "light"
     },
     "output_type": "display_data"
    }
   ],
   "source": [
    "viz.correlations(X_train)\n"
   ]
  },
  {
   "cell_type": "markdown",
   "id": "f0fb8eaa",
   "metadata": {},
   "source": [
    "Many features were excluded because of our business problem. If the homeowner was not able to make the changes to their own house, the features were excluded. This included floors, yr_built, grade, view, waterfront, date, zipcode, yr_renovated, lat, long, sqft_lot, sqft_living15, and sqft_lot15. As an example, the advice, \"move your house to the waterfront,\" would not be helpful to a homeowner who does not live on the waterfront. "
   ]
  },
  {
   "cell_type": "code",
   "execution_count": 4,
   "id": "3a250561",
   "metadata": {
    "scrolled": true
   },
   "outputs": [
    {
     "name": "stdout",
     "output_type": "stream",
     "text": [
      "Features dropped:\n",
      "['bathrooms', 'floors', 'yr_built', 'grade', 'view', 'waterfront', 'date', 'zipcode', 'yr_renovated', 'lat', 'long', 'sqft_lot', 'sqft_living15', 'sqft_lot15', 'sqft_above', 'sqft_basement']\n"
     ]
    }
   ],
   "source": [
    "X_train = cln.dropped(X_train)"
   ]
  },
  {
   "cell_type": "markdown",
   "id": "4b3ad26d",
   "metadata": {},
   "source": [
    "# Methods"
   ]
  },
  {
   "cell_type": "markdown",
   "id": "179965a7",
   "metadata": {},
   "source": [
    "Some outliers in price, greater than 3 standard deviations from the mean, were removed."
   ]
  },
  {
   "cell_type": "code",
   "execution_count": 5,
   "id": "5518e7d9",
   "metadata": {},
   "outputs": [
    {
     "name": "stdout",
     "output_type": "stream",
     "text": [
      "Houses with square feet of living greater than 4838.32 removed.\n"
     ]
    }
   ],
   "source": [
    "X_train, y_train = cln.rem_outliers(X_train, y_train)"
   ]
  },
  {
   "cell_type": "markdown",
   "id": "926a31fb",
   "metadata": {},
   "source": [
    "#### One Hot Encoder \"Condition\""
   ]
  },
  {
   "cell_type": "markdown",
   "id": "9926d697",
   "metadata": {},
   "source": [
    "To change the condition of the home into discrete variables, OneHotEncoder was applied to the training data."
   ]
  },
  {
   "cell_type": "code",
   "execution_count": 6,
   "id": "a991320b",
   "metadata": {},
   "outputs": [
    {
     "name": "stdout",
     "output_type": "stream",
     "text": [
      "Categories encoded and added as columns:\n",
      "['Average' 'Fair' 'Good' 'Poor' 'Very Good']\n"
     ]
    }
   ],
   "source": [
    "o_h_e, X_train = cln.ohe_train(X_train)"
   ]
  },
  {
   "cell_type": "markdown",
   "id": "78f4bc1e",
   "metadata": {},
   "source": [
    "#### Stepwise Selection Function"
   ]
  },
  {
   "cell_type": "markdown",
   "id": "61a6aba7",
   "metadata": {},
   "source": [
    "To precisely determine features to use within our model, a stepwise selection function was finally applied to the cleaned data. "
   ]
  },
  {
   "cell_type": "code",
   "execution_count": 7,
   "id": "657afa64",
   "metadata": {},
   "outputs": [
    {
     "name": "stdout",
     "output_type": "stream",
     "text": [
      "resulting features:\n",
      "['sqft_living', 'bedrooms', 'VeryGood', 'Good', 'id', 'id']\n"
     ]
    }
   ],
   "source": [
    "X_train = X_train[cln.stepwise_selection(X_train, y_train)]"
   ]
  },
  {
   "cell_type": "markdown",
   "id": "ff031001",
   "metadata": {},
   "source": [
    "#### Test set cleaning"
   ]
  },
  {
   "cell_type": "markdown",
   "id": "98df7f84",
   "metadata": {},
   "source": [
    "Do the same above to the test set before modeling"
   ]
  },
  {
   "cell_type": "code",
   "execution_count": 8,
   "id": "47bf7b43",
   "metadata": {},
   "outputs": [
    {
     "name": "stdout",
     "output_type": "stream",
     "text": [
      "Features dropped:\n",
      "['bathrooms', 'floors', 'yr_built', 'grade', 'view', 'waterfront', 'date', 'zipcode', 'yr_renovated', 'lat', 'long', 'sqft_lot', 'sqft_living15', 'sqft_lot15', 'sqft_above', 'sqft_basement']\n",
      "\n",
      "\n",
      "Houses with square feet of living greater than 4823.63 removed.\n",
      "\n",
      "\n",
      "Categories encoded and added as columns:\n",
      "['Average' 'Fair' 'Good' 'Poor' 'Very Good']\n",
      "\n",
      "\n",
      "resulting features:\n",
      "['sqft_living', 'bedrooms', 'VeryGood', 'Good', 'id']\n"
     ]
    }
   ],
   "source": [
    "#drop columns\n",
    "X_test = cln.dropped(X_test)\n",
    "print('\\n')\n",
    "\n",
    "#remove outliers\n",
    "X_test, y_test = cln.rem_outliers(X_test, y_test)\n",
    "print('\\n')\n",
    "\n",
    "#OHE Condition\n",
    "X_test = cln.ohe_test(o_h_e, X_test)\n",
    "print('\\n')\n",
    "#Stepwise Selection\n",
    "\n",
    "X_test = X_test[cln.stepwise_selection(X_test, y_test)]"
   ]
  },
  {
   "cell_type": "markdown",
   "id": "4ab9c0cc",
   "metadata": {},
   "source": [
    "# Modeling"
   ]
  },
  {
   "cell_type": "markdown",
   "id": "569ece96",
   "metadata": {},
   "source": [
    "#### Baseline"
   ]
  },
  {
   "cell_type": "code",
   "execution_count": 9,
   "id": "5fc1facb",
   "metadata": {},
   "outputs": [
    {
     "name": "stdout",
     "output_type": "stream",
     "text": [
      "R^2 of train set:\n",
      "0.0\n"
     ]
    }
   ],
   "source": [
    "#Baseline Dummy Regressor\n",
    "train_score, y_train_hat, test_score, y_test_hat = cln.dummy_modeling(X_train, X_test, y_train, y_test)"
   ]
  },
  {
   "cell_type": "code",
   "execution_count": 10,
   "id": "c7737fbe",
   "metadata": {},
   "outputs": [
    {
     "name": "stdout",
     "output_type": "stream",
     "text": [
      "R^2 of train set:\n",
      "-0.00016199324258603376\n"
     ]
    }
   ],
   "source": [
    "#Baseline R^2 Validation\n",
    "print('R^2 of train set:')\n",
    "print(test_score)"
   ]
  },
  {
   "cell_type": "code",
   "execution_count": 11,
   "id": "a25596c3",
   "metadata": {},
   "outputs": [
    {
     "name": "stdout",
     "output_type": "stream",
     "text": [
      "Root Mean Squared Error:\n",
      "[313947.14167348493]\n"
     ]
    }
   ],
   "source": [
    "#Baseline RMSE\n",
    "baseline_rmse = cln.calc_rmse(y_train, y_train_hat)"
   ]
  },
  {
   "cell_type": "code",
   "execution_count": 12,
   "id": "9d0b06bd",
   "metadata": {},
   "outputs": [
    {
     "name": "stdout",
     "output_type": "stream",
     "text": [
      "Root Mean Squared Error:\n",
      "[306355.96373586426]\n"
     ]
    }
   ],
   "source": [
    "#Baseline Test RMSE\n",
    "baseline_test_rmse = cln.calc_rmse(y_test, y_test_hat)"
   ]
  },
  {
   "cell_type": "markdown",
   "id": "ad38513a",
   "metadata": {},
   "source": [
    "#### Simple Linear Regression"
   ]
  },
  {
   "cell_type": "code",
   "execution_count": 13,
   "id": "493f2d8e",
   "metadata": {},
   "outputs": [
    {
     "name": "stdout",
     "output_type": "stream",
     "text": [
      "                            OLS Regression Results                            \n",
      "==============================================================================\n",
      "Dep. Variable:                  price   R-squared:                       0.430\n",
      "Model:                            OLS   Adj. R-squared:                  0.430\n",
      "Method:                 Least Squares   F-statistic:                 1.206e+04\n",
      "Date:                Thu, 07 Oct 2021   Prob (F-statistic):               0.00\n",
      "Time:                        16:55:37   Log-Likelihood:            -2.2079e+05\n",
      "No. Observations:               16005   AIC:                         4.416e+05\n",
      "Df Residuals:                   16003   BIC:                         4.416e+05\n",
      "Df Model:                           1                                         \n",
      "Covariance Type:            nonrobust                                         \n",
      "===============================================================================\n",
      "                  coef    std err          t      P>|t|      [0.025      0.975]\n",
      "-------------------------------------------------------------------------------\n",
      "Intercept    1.264e+04   5023.962      2.516      0.012    2792.660    2.25e+04\n",
      "sqft_living   250.9866      2.286    109.802      0.000     246.506     255.467\n",
      "==============================================================================\n",
      "Omnibus:                     8062.978   Durbin-Watson:                   1.992\n",
      "Prob(Omnibus):                  0.000   Jarque-Bera (JB):            95372.471\n",
      "Skew:                           2.142   Prob(JB):                         0.00\n",
      "Kurtosis:                      14.165   Cond. No.                     5.89e+03\n",
      "==============================================================================\n",
      "\n",
      "Notes:\n",
      "[1] Standard Errors assume that the covariance matrix of the errors is correctly specified.\n",
      "[2] The condition number is large, 5.89e+03. This might indicate that there are\n",
      "strong multicollinearity or other numerical problems.\n"
     ]
    }
   ],
   "source": [
    "#OLS with price and bathrooms\n",
    "y_train_hat, y_test_hat, residuals = cln.regression_single(X_train, X_test, y_train, y_test)"
   ]
  },
  {
   "cell_type": "code",
   "execution_count": 14,
   "id": "40587209",
   "metadata": {},
   "outputs": [
    {
     "name": "stdout",
     "output_type": "stream",
     "text": [
      "Root Mean Squared Error:\n",
      "[237092.22939347464]\n"
     ]
    }
   ],
   "source": [
    "#1st Model RMSE\n",
    "single_rmse = cln.calc_rmse(y_train, y_train_hat)"
   ]
  },
  {
   "cell_type": "code",
   "execution_count": 15,
   "id": "99b3a469",
   "metadata": {},
   "outputs": [
    {
     "name": "stdout",
     "output_type": "stream",
     "text": [
      "Root Mean Squared Error:\n",
      "[230766.11775401162]\n"
     ]
    }
   ],
   "source": [
    "#1st RMSE Validation\n",
    "single_test_rmse = cln.calc_rmse(y_test, y_test_hat)"
   ]
  },
  {
   "cell_type": "code",
   "execution_count": 16,
   "id": "c38acfe2",
   "metadata": {},
   "outputs": [
    {
     "name": "stderr",
     "output_type": "stream",
     "text": [
      "C:\\Users\\andre\\Documents\\Flatirons\\phase_2_project\\project_contents\\Phase_2_Project----DrewB-AndrewM-AndyS\\code\\project2_cleaning.py:188: UserWarning: Matplotlib is currently using module://ipykernel.pylab.backend_inline, which is a non-GUI backend, so cannot show the figure.\n",
      "  return fig.show()\n"
     ]
    },
    {
     "data": {
      "image/png": "[encoded data removed]",
      "text/plain": [
       "<Figure size 432x288 with 1 Axes>"
      ]
     },
     "metadata": {
      "needs_background": "light"
     },
     "output_type": "display_data"
    }
   ],
   "source": [
    "#Check Normality of Residuals\n",
    "cln.resid_map(residuals)"
   ]
  },
  {
   "cell_type": "code",
   "execution_count": 17,
   "id": "d81d1ec1",
   "metadata": {},
   "outputs": [
    {
     "data": {
      "text/plain": [
       "<matplotlib.collections.PathCollection at 0x11ad1922d30>"
      ]
     },
     "execution_count": 17,
     "metadata": {},
     "output_type": "execute_result"
    },
    {
     "data": {
      "image/png": "[encoded data removed]",
      "text/plain": [
       "<Figure size 432x288 with 1 Axes>"
      ]
     },
     "metadata": {
      "needs_background": "light"
     },
     "output_type": "display_data"
    }
   ],
   "source": [
    "#Check Homoscedasticity of Residuals\n",
    "plt.scatter(residuals, y_train_hat)"
   ]
  },
  {
   "cell_type": "markdown",
   "id": "77a2a6b2",
   "metadata": {},
   "source": [
    "#### Mulitiple Linear Regression"
   ]
  },
  {
   "cell_type": "code",
   "execution_count": 20,
   "id": "ae1914e4",
   "metadata": {},
   "outputs": [],
   "source": [
    "#Stepwise Function"
   ]
  },
  {
   "cell_type": "code",
   "execution_count": 19,
   "id": "e7ceccc2",
   "metadata": {},
   "outputs": [
    {
     "name": "stdout",
     "output_type": "stream",
     "text": [
      "                            OLS Regression Results                            \n",
      "==============================================================================\n",
      "Dep. Variable:                  price   R-squared:                       0.454\n",
      "Model:                            OLS   Adj. R-squared:                  0.454\n",
      "Method:                 Least Squares   F-statistic:                     3322.\n",
      "Date:                Thu, 07 Oct 2021   Prob (F-statistic):               0.00\n",
      "Time:                        16:55:41   Log-Likelihood:            -2.2045e+05\n",
      "No. Observations:               16005   AIC:                         4.409e+05\n",
      "Df Residuals:                   16000   BIC:                         4.409e+05\n",
      "Df Model:                           4                                         \n",
      "Covariance Type:            nonrobust                                         \n",
      "===============================================================================\n",
      "                  coef    std err          t      P>|t|      [0.025      0.975]\n",
      "-------------------------------------------------------------------------------\n",
      "Intercept    9.741e+04   7277.531     13.385      0.000    8.31e+04    1.12e+05\n",
      "sqft_living   287.8693      2.809    102.468      0.000     282.363     293.376\n",
      "bedrooms     -5.33e+04   2565.412    -20.775      0.000   -5.83e+04   -4.83e+04\n",
      "VeryGood     1.157e+05   6892.167     16.789      0.000    1.02e+05    1.29e+05\n",
      "Good         3.697e+04   4258.242      8.682      0.000    2.86e+04    4.53e+04\n",
      "==============================================================================\n",
      "Omnibus:                     7907.846   Durbin-Watson:                   1.991\n",
      "Prob(Omnibus):                  0.000   Jarque-Bera (JB):            91851.566\n",
      "Skew:                           2.094   Prob(JB):                         0.00\n",
      "Kurtosis:                      13.963   Cond. No.                     9.20e+03\n",
      "==============================================================================\n",
      "\n",
      "Notes:\n",
      "[1] Standard Errors assume that the covariance matrix of the errors is correctly specified.\n",
      "[2] The condition number is large, 9.2e+03. This might indicate that there are\n",
      "strong multicollinearity or other numerical problems.\n"
     ]
    }
   ],
   "source": [
    "#Multiple OLS with Stepwise Results\n",
    "y_train_hat, y_test_hat, residuals = cln.regression_multiple(X_train, X_test, y_train, y_test)"
   ]
  },
  {
   "cell_type": "code",
   "execution_count": 22,
   "id": "233111d8",
   "metadata": {},
   "outputs": [
    {
     "name": "stdout",
     "output_type": "stream",
     "text": [
      "Root Mean Squared Error:\n",
      "[232040.97638003607]\n"
     ]
    }
   ],
   "source": [
    "#Multiple OLS RMSE\n",
    "multiple_rmse = cln.calc_rmse(y_train, y_train_hat)"
   ]
  },
  {
   "cell_type": "code",
   "execution_count": 23,
   "id": "258969ac",
   "metadata": {},
   "outputs": [
    {
     "name": "stdout",
     "output_type": "stream",
     "text": [
      "Root Mean Squared Error:\n",
      "[227552.39461939357]\n"
     ]
    }
   ],
   "source": [
    "#Multiple OLS RMSE\n",
    "multiple_test_rmse = cln.calc_rmse(y_test, y_test_hat)"
   ]
  },
  {
   "cell_type": "code",
   "execution_count": 24,
   "id": "d3968b8f",
   "metadata": {},
   "outputs": [
    {
     "name": "stderr",
     "output_type": "stream",
     "text": [
      "C:\\Users\\andre\\Documents\\Flatirons\\phase_2_project\\project_contents\\Phase_2_Project----DrewB-AndrewM-AndyS\\code\\project2_cleaning.py:188: UserWarning: Matplotlib is currently using module://ipykernel.pylab.backend_inline, which is a non-GUI backend, so cannot show the figure.\n",
      "  return fig.show()\n"
     ]
    },
    {
     "data": {
      "image/png": "[encoded data removed]",
      "text/plain": [
       "<Figure size 432x288 with 1 Axes>"
      ]
     },
     "metadata": {
      "needs_background": "light"
     },
     "output_type": "display_data"
    }
   ],
   "source": [
    "#Check Normality of Residuals\n",
    "cln.resid_map(residuals)"
   ]
  },
  {
   "cell_type": "code",
   "execution_count": 25,
   "id": "d1bc1109",
   "metadata": {},
   "outputs": [
    {
     "data": {
      "image/png": "[encoded data removed]",
      "text/plain": [
       "<Figure size 432x288 with 1 Axes>"
      ]
     },
     "metadata": {
      "needs_background": "light"
     },
     "output_type": "display_data"
    }
   ],
   "source": [
    "#Check Homoscedasticity of Residuals\n",
    "plt.scatter(residuals, y_train_hat);"
   ]
  },
  {
   "cell_type": "markdown",
   "id": "3e3ad72a",
   "metadata": {},
   "source": [
    "# Conclusion"
   ]
  },
  {
   "cell_type": "markdown",
   "id": "ad1d9d3a",
   "metadata": {},
   "source": [
    "regression perfromance\n",
    "interpretation\n",
    "recommendations"
   ]
  },
  {
   "cell_type": "markdown",
   "id": "c2e06eca",
   "metadata": {},
   "source": [
    "# Next Steps"
   ]
  },
  {
   "cell_type": "code",
   "execution_count": null,
   "id": "b2643557",
   "metadata": {},
   "outputs": [],
   "source": []
  }
 ],
 "metadata": {
  "kernelspec": {
   "display_name": "Python 3",
   "language": "python",
   "name": "python3"
  },
  "language_info": {
   "codemirror_mode": {
    "name": "ipython",
    "version": 3
   },
   "file_extension": ".py",
   "mimetype": "text/x-python",
   "name": "python",
   "nbconvert_exporter": "python",
   "pygments_lexer": "ipython3",
   "version": "3.8.8"
  }
 },
 "nbformat": 4,
 "nbformat_minor": 5
}
